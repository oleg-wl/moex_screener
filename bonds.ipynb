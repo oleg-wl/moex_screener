{
 "cells": [
  {
   "attachments": {},
   "cell_type": "markdown",
   "metadata": {},
   "source": [
    "    Анализ облигаций на основе запроса к API Мосбиржи"
   ]
  },
  {
   "cell_type": "code",
   "execution_count": 1,
   "metadata": {},
   "outputs": [],
   "source": [
    "import pandas as pd\n",
    "from main import Moex #Импорт класса для запросов к API Мосбиржи"
   ]
  },
  {
   "cell_type": "code",
   "execution_count": 3,
   "metadata": {},
   "outputs": [
    {
     "name": "stdout",
     "output_type": "stream",
     "text": [
      "Загрузка завершена.\n"
     ]
    }
   ],
   "source": [
    "page = Moex().get_bonds()\n",
    "df = pd.DataFrame(page['securities']['data'], columns=page['securities']['columns'])"
   ]
  },
  {
   "cell_type": "code",
   "execution_count": 4,
   "metadata": {},
   "outputs": [
    {
     "name": "stdout",
     "output_type": "stream",
     "text": [
      "<class 'pandas.core.frame.DataFrame'>\n",
      "RangeIndex: 2510 entries, 0 to 2509\n",
      "Data columns (total 16 columns):\n",
      " #   Column               Non-Null Count  Dtype \n",
      "---  ------               --------------  ----- \n",
      " 0   id                   2510 non-null   int64 \n",
      " 1   secid                2510 non-null   object\n",
      " 2   shortname            2510 non-null   object\n",
      " 3   regnumber            2173 non-null   object\n",
      " 4   name                 2510 non-null   object\n",
      " 5   isin                 2510 non-null   object\n",
      " 6   is_traded            2510 non-null   int64 \n",
      " 7   emitent_id           2510 non-null   int64 \n",
      " 8   emitent_title        2510 non-null   object\n",
      " 9   emitent_inn          2505 non-null   object\n",
      " 10  emitent_okpo         1575 non-null   object\n",
      " 11  gosreg               2173 non-null   object\n",
      " 12  type                 2510 non-null   object\n",
      " 13  group                2510 non-null   object\n",
      " 14  primary_boardid      2510 non-null   object\n",
      " 15  marketprice_boardid  2340 non-null   object\n",
      "dtypes: int64(3), object(13)\n",
      "memory usage: 313.9+ KB\n"
     ]
    }
   ],
   "source": [
    "df.info()"
   ]
  }
 ],
 "metadata": {
  "kernelspec": {
   "display_name": "base",
   "language": "python",
   "name": "python3"
  },
  "language_info": {
   "codemirror_mode": {
    "name": "ipython",
    "version": 3
   },
   "file_extension": ".py",
   "mimetype": "text/x-python",
   "name": "python",
   "nbconvert_exporter": "python",
   "pygments_lexer": "ipython3",
   "version": "3.9.16"
  },
  "orig_nbformat": 4,
  "vscode": {
   "interpreter": {
    "hash": "f2521ad822d34211f2579facaaf08ffd4f617207f357d191055560c1094e8ed2"
   }
  }
 },
 "nbformat": 4,
 "nbformat_minor": 2
}
